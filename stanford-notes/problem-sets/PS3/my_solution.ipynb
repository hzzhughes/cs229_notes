{
 "cells": [
  {
   "cell_type": "markdown",
   "metadata": {},
   "source": [
    "# Problem Set #3: Deep Learning & Unsupervised Learning"
   ]
  },
  {
   "cell_type": "markdown",
   "metadata": {},
   "source": [
    "## 1. [20 points] A Simple Neural Network"
   ]
  },
  {
   "cell_type": "markdown",
   "metadata": {},
   "source": [
    "### (a)"
   ]
  },
  {
   "cell_type": "markdown",
   "metadata": {},
   "source": [
    "已知：\n",
    "$$\n",
    "\\begin{align*}\n",
    "    o &= g(\\sum_{j=1}^3 w_j^{[2]} h_j + w_0^{[2]}) \\\\\n",
    "    h_j &= g(\\sum_{i=1}^2 w_{i,j}^{[1]} x_i + w_{0,j}^{[1]})\n",
    "\\end{align*}\n",
    "$$\n",
    "故有：\n",
    "$$\n",
    "\\begin{align*}\n",
    "    \\frac{\\partial}{\\partial w_{1,2}^{[1]}}o &= \\frac{\\partial o}{\\partial h_2}\\frac{\\partial h_2}{\\partial w_{1,2}^{[1]}} \\\\\n",
    "    &=o(1-o)w_2^{[2]}h_2(1-h_2)x_1\n",
    "\\end{align*}\n",
    "$$\n",
    "于是：\n",
    "$$\n",
    "\\begin{align*}\n",
    "    \\frac{\\partial}{\\partial w_{1,2}^{[1]}}l &= \\frac{\\partial}{\\partial w_{1,2}^{[1]}}\\frac{1}{m}\\sum_{i=1}^m(o^{(i)}-y^{(i)})^2 \\\\\n",
    "    &=\\frac{2}{m}\\sum_{i=1}^m(o^{(i)}-y^{(i)})\\frac{\\partial}{\\partial w_{1,2}^{[1]}}o^{(i)} \\\\\n",
    "    &=\\frac{2}{m}\\sum_{i=1}^m(o^{(i)}-y^{(i)})o^{(i)}(1-o^{(i)})w_2^{[2]}h_2^{(i)}(1-h_2^{(i)})x_1^{(i)}\n",
    "\\end{align*}\n",
    "$$\n",
    "进而：\n",
    "$$\n",
    "\\begin{align*}\n",
    "    \\Delta w_{1,2}^{[1]}=\\frac{2\\alpha}{m}\\sum_{i=1}^m(o^{(i)}-y^{(i)})o^{(i)}(1-o^{(i)})w_2^{[2]}h_2^{(i)}(1-h_2^{(i)})x_1^{(i)}\n",
    "\\end{align*}\n",
    "$$"
   ]
  },
  {
   "cell_type": "markdown",
   "metadata": {},
   "source": [
    "### (b)"
   ]
  },
  {
   "cell_type": "markdown",
   "metadata": {},
   "source": [
    "观察题目给出的散点图中class_0与class_1的点之间被一个巨大的三角形所间隔\n",
    "而实际上$W_{3\\times2}^{[1]}x-W_0^{[1]}<0$就可以在二维空间中构建出一个三角形\n",
    "\n",
    "之后只需要将第二层神经网络构造成一个与门就可以了"
   ]
  }
 ],
 "metadata": {
  "language_info": {
   "name": "python"
  }
 },
 "nbformat": 4,
 "nbformat_minor": 2
}
