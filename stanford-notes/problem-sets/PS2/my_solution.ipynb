{
 "cells": [
  {
   "cell_type": "markdown",
   "metadata": {},
   "source": [
    "# Problem Set #2: Supervised Learning II"
   ]
  },
  {
   "cell_type": "markdown",
   "metadata": {},
   "source": [
    "## 1. [15 points] Logistic Regression: Training stability"
   ]
  },
  {
   "cell_type": "markdown",
   "metadata": {},
   "source": [
    "### (a)"
   ]
  },
  {
   "cell_type": "code",
   "execution_count": 4,
   "metadata": {},
   "outputs": [
    {
     "name": "stdout",
     "output_type": "stream",
     "text": [
      "[Errno 2] No such file or directory: 'src/'\n",
      "/Users/apple/Documents/Opencourses/CS229-fall-2018/stanford-notes/problem-sets/PS2/src\n"
     ]
    },
    {
     "name": "stderr",
     "output_type": "stream",
     "text": [
      "/Users/apple/miniconda3/envs/cs229/lib/python3.12/site-packages/IPython/core/magics/osm.py:393: UserWarning: This is now an optional IPython functionality, using bookmarks requires you to install the `pickleshare` library.\n",
      "  bkms = self.shell.db.get('bookmarks', {})\n"
     ]
    },
    {
     "name": "stdout",
     "output_type": "stream",
     "text": [
      "==== Training model on data set A ====\n",
      "Finished 10000 iterations\n",
      "Finished 20000 iterations\n",
      "Finished 30000 iterations\n",
      "Converged in 30372 iterations\n",
      "\n",
      "==== Training model on data set B ====\n",
      "Finished 10000 iterations\n",
      "Finished 20000 iterations\n",
      "Finished 30000 iterations\n",
      "Finished 40000 iterations\n",
      "Finished 50000 iterations\n",
      "^C\n",
      "Traceback (most recent call last):\n",
      "  File \"/Users/apple/Documents/Opencourses/CS229-fall-2018/stanford-notes/problem-sets/PS2/src/p01_lr.py\", line 49, in <module>\n",
      "    main()\n",
      "  File \"/Users/apple/Documents/Opencourses/CS229-fall-2018/stanford-notes/problem-sets/PS2/src/p01_lr.py\", line 45, in main\n",
      "    logistic_regression(Xb, Yb)\n",
      "  File \"/Users/apple/Documents/Opencourses/CS229-fall-2018/stanford-notes/problem-sets/PS2/src/p01_lr.py\", line 28, in logistic_regression\n",
      "    grad = calc_grad(X, Y, theta)\n",
      "           ^^^^^^^^^^^^^^^^^^^^^^\n",
      "  File \"/Users/apple/Documents/Opencourses/CS229-fall-2018/stanford-notes/problem-sets/PS2/src/p01_lr.py\", line 13, in calc_grad\n",
      "    grad = -(1./m) * (X.T.dot(probs * Y))\n",
      "                      ^^^^^^^^^^^^^^^^^^\n",
      "KeyboardInterrupt\n",
      "/Users/apple/Documents/Opencourses/CS229-fall-2018/stanford-notes/problem-sets/PS2\n"
     ]
    },
    {
     "name": "stderr",
     "output_type": "stream",
     "text": [
      "/Users/apple/miniconda3/envs/cs229/lib/python3.12/site-packages/IPython/core/magics/osm.py:417: UserWarning: This is now an optional IPython functionality, setting dhist requires you to install the `pickleshare` library.\n",
      "  self.shell.db['dhist'] = compress_dhist(dhist)[-100:]\n"
     ]
    }
   ],
   "source": [
    "%cd src/\n",
    "!python p01_lr.py\n",
    "%cd .."
   ]
  },
  {
   "cell_type": "markdown",
   "metadata": {},
   "source": [
    "Model trained on set A converged in 30372 iterations,\n",
    "but model trained on set B seems to be divergent as its iteration number keeps growing"
   ]
  },
  {
   "cell_type": "code",
   "execution_count": 8,
   "metadata": {},
   "outputs": [],
   "source": [
    "import matplotlib.pyplot as plt\n",
    "from src import util\n",
    "X_a,Y_a=util.load_csv('data/ds1_a.csv',add_intercept=False)\n",
    "X_b,Y_b=util.load_csv('data/ds1_b.csv',add_intercept=False)"
   ]
  },
  {
   "cell_type": "code",
   "execution_count": 17,
   "metadata": {},
   "outputs": [
    {
     "data": {
      "text/plain": [
       "<matplotlib.collections.PathCollection at 0x10f4418e0>"
      ]
     },
     "execution_count": 17,
     "metadata": {},
     "output_type": "execute_result"
    },
    {
     "data": {
      "image/png": "[encoded data removed]",
      "text/plain": [
       "<Figure size 640x480 with 2 Axes>"
      ]
     },
     "metadata": {},
     "output_type": "display_data"
    }
   ],
   "source": [
    "fig,(ax1,ax2)=plt.subplots(1,2)\n",
    "ax1.scatter(X_a[Y_a==1][:,0],X_a[Y_a==1][:,1])\n",
    "ax1.scatter(X_a[Y_a!=1][:,0],X_a[Y_a!=1][:,1])\n",
    "ax2.scatter(X_b[Y_b==1][:,0],X_b[Y_b==1][:,1])\n",
    "ax2.scatter(X_b[Y_b!=1][:,0],X_b[Y_b!=1][:,1])"
   ]
  },
  {
   "cell_type": "markdown",
   "metadata": {},
   "source": [
    "~~Since optimization problems of GLM models including logistic regression are all convex, it is intuitive to attriute the unexpected behavior on set B to the too large learning rate defined in the code. The different behavior of set A may be explained by coincidence: in a iteration it falls concidently closely to the optimal point and thus its gradient become close enough to zero point, which lead the whole process to converge.~~\n",
    "\n",
    "The optimization problem on NLL in logistic regression would be unbouned below if the dataset is linearly seperable."
   ]
  },
  {
   "cell_type": "markdown",
   "metadata": {},
   "source": [
    "### (c)"
   ]
  },
  {
   "cell_type": "markdown",
   "metadata": {},
   "source": [
    "i. will not, since changing learning rate will not change the optimization problem from unbounded below into solvable\n",
    "\n",
    "ii. will not, reasons are the same as above\n",
    "\n",
    "iii. will not, scaling will not change the linear seperaibility\n",
    "\n",
    "iv. will, adding regularization $||\\theta||_2^2$ can help constrain the scale of $\\theta$\n",
    "\n",
    "v. possible, adding zero mean gaussian noise may make the dataset be no longer linearly separable, but also may not."
   ]
  },
  {
   "cell_type": "markdown",
   "metadata": {},
   "source": [
    "### (d)"
   ]
  },
  {
   "cell_type": "markdown",
   "metadata": {},
   "source": [
    "will not, since SVM have regularization term similar to that mentioned in (c)"
   ]
  },
  {
   "cell_type": "markdown",
   "metadata": {},
   "source": [
    "## 2. [10 points] Model Calibration"
   ]
  },
  {
   "cell_type": "markdown",
   "metadata": {},
   "source": [
    "### (a)"
   ]
  },
  {
   "cell_type": "markdown",
   "metadata": {},
   "source": [
    "when (a,b)=(0,1), the equation mentioned in the question can be written as:\n",
    "$$\n",
    "\\begin{align*}\n",
    "\\frac{1}{m}\\sum_i^mP\\{y^i=1\\mid x^i;\\theta\\} & = \\frac{1}{m}\\sum_i^m y^i \\\\\n",
    "\\frac{1}{m}\\sum_i^m y^i - h_\\theta(x^i) &= 0\n",
    "\\end{align*}\n",
    "$$\n",
    "However, as we know, the loss function under such circumstance is NLL whose gradient with respect to $\\theta$ can be expressed as:\n",
    "$$\n",
    "\\nabla_\\theta NLL = \\sum_i^m (y^i - h_\\theta(x^i))x^i\n",
    "$$\n",
    "It's easy to tell that the first equation holds true when the first component of $\\nabla_\\theta NLL$, in which $x_0^i$ always equals to 1, equals to 0, which is exactly the case when the parameter is gained through maximum likelihood"
   ]
  },
  {
   "cell_type": "markdown",
   "metadata": {},
   "source": [
    "### (b)"
   ]
  },
  {
   "cell_type": "markdown",
   "metadata": {},
   "source": [
    "The converse may not be true, since probability does not neccessarily equals to frequency."
   ]
  },
  {
   "cell_type": "markdown",
   "metadata": {},
   "source": [
    "### (c)"
   ]
  },
  {
   "cell_type": "markdown",
   "metadata": {},
   "source": [
    "the model will be biased "
   ]
  },
  {
   "cell_type": "markdown",
   "metadata": {},
   "source": [
    "## 3. [20 points] Bayesian Interpretation of Regularization"
   ]
  },
  {
   "cell_type": "markdown",
   "metadata": {},
   "source": [
    "### (a)"
   ]
  },
  {
   "cell_type": "markdown",
   "metadata": {},
   "source": [
    "$$\n",
    "\\begin{align*}\n",
    "\\theta_{MAP}&=argmax_\\theta p(\\theta\\mid x,y) \\\\\n",
    "&=argmax_\\theta p(y\\mid x,\\theta)p(\\theta\\mid x)/p(y) \\\\\n",
    "&=argmax_\\theta p(y\\mid x,\\theta)p(\\theta\\mid x) \\\\\n",
    "&=argmax_\\theta p(y\\mid x,\\theta)p(\\theta)\n",
    "\\end{align*}\n",
    "$$\n",
    "note that the last step of this prove depends on the assumption that $p(\\theta\\mid x)=p(\\theta)$"
   ]
  },
  {
   "cell_type": "markdown",
   "metadata": {},
   "source": [
    "### (b)"
   ]
  },
  {
   "cell_type": "markdown",
   "metadata": {},
   "source": [
    "\\begin{align*}\n",
    "\\theta_{MAP}&=arg\\mathop{max}\\limits_\\theta p(\\theta\\mid x,y) \\\\\n",
    "&=arg\\mathop{max}\\limits_\\theta p(y\\mid x,\\theta)p(\\theta) \\\\\n",
    "&=arg\\mathop{max}\\limits_\\theta p(y\\mid x,\\theta) exp(-\\frac{1}{2\\eta^{2}}\\theta^TI\\theta) \\\\\n",
    "&=arg\\mathop{max}\\limits_\\theta p(y\\mid x,\\theta) exp(-\\frac{1}{2\\eta^{2}}\\lVert\\theta\\rVert_2^2) \\\\\n",
    "&=arg\\mathop{max}\\limits_\\theta log(p(y\\mid x,\\theta)) -\\frac{1}{2\\eta^{2}}\\lVert\\theta\\rVert_2^2 \\\\\n",
    "&=arg\\mathop{min}\\limits_\\theta -log(p(y\\mid x,\\theta)) +\\frac{1}{2\\eta^{2}}\\lVert\\theta\\rVert_2^2 \\\\\n",
    "&=arg\\mathop{min}\\limits_\\theta -log(p(y\\mid x,\\theta)) +\\lambda\\lVert\\theta\\rVert_2^2 \\\\\n",
    "\\end{align*}"
   ]
  },
  {
   "cell_type": "markdown",
   "metadata": {},
   "source": [
    "### (c)"
   ]
  },
  {
   "cell_type": "markdown",
   "metadata": {},
   "source": [
    "\\begin{align*}\n",
    "\\theta_{MAP}&=arg\\mathop{min}\\limits_\\theta -log(p(y\\mid x,\\theta)) +\\lambda\\lVert\\theta\\rVert_2^2 \\\\\n",
    "&=arg\\mathop{min}\\limits_\\theta \\sum_{i=1}^m \\frac{(y_i-\\theta^Tx_i)^2}{2\\sigma^2} +\\lambda\\lVert\\theta\\rVert_2^2 \\\\\n",
    "&=arg\\mathop{min}\\limits_\\theta \\lVert X\\theta-y\\rVert_2^2 + \\tilde\\lambda\\lVert\\theta\\rVert_2^2\n",
    "\\end{align*}"
   ]
  },
  {
   "cell_type": "markdown",
   "metadata": {},
   "source": [
    "### (d)"
   ]
  },
  {
   "cell_type": "markdown",
   "metadata": {},
   "source": []
  },
  {
   "cell_type": "markdown",
   "metadata": {},
   "source": [
    "## 6. [22 points] Spam classification"
   ]
  },
  {
   "cell_type": "markdown",
   "metadata": {},
   "source": [
    "### (a)"
   ]
  },
  {
   "cell_type": "code",
   "execution_count": 1,
   "metadata": {},
   "outputs": [],
   "source": [
    "import sys\n",
    "sys.path.append('src')\n",
    "from src.p06_spam import get_words,create_dictionary"
   ]
  },
  {
   "cell_type": "code",
   "execution_count": 2,
   "metadata": {},
   "outputs": [
    {
     "data": {
      "text/plain": [
       "['hello', 'world!']"
      ]
     },
     "execution_count": 2,
     "metadata": {},
     "output_type": "execute_result"
    }
   ],
   "source": [
    "get_words('Hello World!      ')"
   ]
  },
  {
   "cell_type": "code",
   "execution_count": 5,
   "metadata": {},
   "outputs": [
    {
     "data": {
      "text/plain": [
       "{'world!': 0, 'hello': 1}"
      ]
     },
     "execution_count": 5,
     "metadata": {},
     "output_type": "execute_result"
    }
   ],
   "source": [
    "create_dictionary('Hello Hello Hello Hello Hello Hello Hello Hello Hello World! World! World! World! World! World!      ')"
   ]
  }
 ],
 "metadata": {
  "kernelspec": {
   "display_name": "cs229",
   "language": "python",
   "name": "python3"
  },
  "language_info": {
   "codemirror_mode": {
    "name": "ipython",
    "version": 3
   },
   "file_extension": ".py",
   "mimetype": "text/x-python",
   "name": "python",
   "nbconvert_exporter": "python",
   "pygments_lexer": "ipython3",
   "version": "3.12.4"
  }
 },
 "nbformat": 4,
 "nbformat_minor": 2
}
